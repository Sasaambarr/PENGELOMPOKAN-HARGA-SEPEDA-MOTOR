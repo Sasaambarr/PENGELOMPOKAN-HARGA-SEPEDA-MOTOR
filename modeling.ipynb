{
 "cells": [
  {
   "cell_type": "code",
   "execution_count": 65,
   "id": "34492fb5",
   "metadata": {},
   "outputs": [],
   "source": [
    "from sklearn.preprocessing import StandardScaler\n",
    "from sklearn.cluster import KMeans\n",
    "from sklearn.metrics import silhouette_score\n",
    "import matplotlib.pyplot as plt\n",
    "import seaborn as sns\n",
    "import pandas as pd\n",
    "import joblib"
   ]
  },
  {
   "cell_type": "code",
   "execution_count": 66,
   "id": "d74fd588",
   "metadata": {},
   "outputs": [
    {
     "data": {
      "text/html": [
       "<div>\n",
       "<style scoped>\n",
       "    .dataframe tbody tr th:only-of-type {\n",
       "        vertical-align: middle;\n",
       "    }\n",
       "\n",
       "    .dataframe tbody tr th {\n",
       "        vertical-align: top;\n",
       "    }\n",
       "\n",
       "    .dataframe thead th {\n",
       "        text-align: right;\n",
       "    }\n",
       "</style>\n",
       "<table border=\"1\" class=\"dataframe\">\n",
       "  <thead>\n",
       "    <tr style=\"text-align: right;\">\n",
       "      <th></th>\n",
       "      <th>ID</th>\n",
       "      <th>Merek</th>\n",
       "      <th>Harga (Juta)</th>\n",
       "      <th>Kapasitas Mesin (cc)</th>\n",
       "      <th>Transmisi</th>\n",
       "      <th>Konsumsi BBM (km/l)</th>\n",
       "      <th>Berat (kg)</th>\n",
       "    </tr>\n",
       "  </thead>\n",
       "  <tbody>\n",
       "    <tr>\n",
       "      <th>0</th>\n",
       "      <td>1</td>\n",
       "      <td>Honda NMAX</td>\n",
       "      <td>43</td>\n",
       "      <td>281</td>\n",
       "      <td>Manual</td>\n",
       "      <td>31</td>\n",
       "      <td>159</td>\n",
       "    </tr>\n",
       "    <tr>\n",
       "      <th>1</th>\n",
       "      <td>2</td>\n",
       "      <td>Yamaha Beat</td>\n",
       "      <td>17</td>\n",
       "      <td>116</td>\n",
       "      <td>Otomatis</td>\n",
       "      <td>64</td>\n",
       "      <td>96</td>\n",
       "    </tr>\n",
       "    <tr>\n",
       "      <th>2</th>\n",
       "      <td>3</td>\n",
       "      <td>Kawasaki Vario</td>\n",
       "      <td>24</td>\n",
       "      <td>149</td>\n",
       "      <td>Otomatis</td>\n",
       "      <td>46</td>\n",
       "      <td>106</td>\n",
       "    </tr>\n",
       "    <tr>\n",
       "      <th>3</th>\n",
       "      <td>4</td>\n",
       "      <td>Suzuki CBR</td>\n",
       "      <td>42</td>\n",
       "      <td>280</td>\n",
       "      <td>Manual</td>\n",
       "      <td>33</td>\n",
       "      <td>134</td>\n",
       "    </tr>\n",
       "    <tr>\n",
       "      <th>4</th>\n",
       "      <td>5</td>\n",
       "      <td>Suzuki Vario</td>\n",
       "      <td>29</td>\n",
       "      <td>156</td>\n",
       "      <td>Otomatis</td>\n",
       "      <td>41</td>\n",
       "      <td>102</td>\n",
       "    </tr>\n",
       "  </tbody>\n",
       "</table>\n",
       "</div>"
      ],
      "text/plain": [
       "   ID           Merek  Harga (Juta)  Kapasitas Mesin (cc) Transmisi  \\\n",
       "0   1      Honda NMAX            43                   281    Manual   \n",
       "1   2     Yamaha Beat            17                   116  Otomatis   \n",
       "2   3  Kawasaki Vario            24                   149  Otomatis   \n",
       "3   4      Suzuki CBR            42                   280    Manual   \n",
       "4   5    Suzuki Vario            29                   156  Otomatis   \n",
       "\n",
       "   Konsumsi BBM (km/l)  Berat (kg)  \n",
       "0                   31         159  \n",
       "1                   64          96  \n",
       "2                   46         106  \n",
       "3                   33         134  \n",
       "4                   41         102  "
      ]
     },
     "execution_count": 66,
     "metadata": {},
     "output_type": "execute_result"
    }
   ],
   "source": [
    "df = pd.read_csv('datasetmotorbersih.csv')\n",
    "df.head()"
   ]
  },
  {
   "cell_type": "code",
   "execution_count": 67,
   "id": "b32400a1",
   "metadata": {},
   "outputs": [
    {
     "name": "stdout",
     "output_type": "stream",
     "text": [
      "<class 'pandas.core.frame.DataFrame'>\n",
      "RangeIndex: 150 entries, 0 to 149\n",
      "Data columns (total 7 columns):\n",
      " #   Column                Non-Null Count  Dtype \n",
      "---  ------                --------------  ----- \n",
      " 0   ID                    150 non-null    int64 \n",
      " 1   Merek                 150 non-null    object\n",
      " 2   Harga (Juta)          150 non-null    int64 \n",
      " 3   Kapasitas Mesin (cc)  150 non-null    int64 \n",
      " 4   Transmisi             150 non-null    object\n",
      " 5   Konsumsi BBM (km/l)   150 non-null    int64 \n",
      " 6   Berat (kg)            150 non-null    int64 \n",
      "dtypes: int64(5), object(2)\n",
      "memory usage: 8.3+ KB\n"
     ]
    },
    {
     "data": {
      "text/plain": [
       "ID                      0\n",
       "Merek                   0\n",
       "Harga (Juta)            0\n",
       "Kapasitas Mesin (cc)    0\n",
       "Transmisi               0\n",
       "Konsumsi BBM (km/l)     0\n",
       "Berat (kg)              0\n",
       "dtype: int64"
      ]
     },
     "execution_count": 67,
     "metadata": {},
     "output_type": "execute_result"
    }
   ],
   "source": [
    "df.info()\n",
    "df.describe()\n",
    "df.isnull().sum()  # cek missing value\n"
   ]
  },
  {
   "cell_type": "code",
   "execution_count": 68,
   "id": "e9cefe56",
   "metadata": {},
   "outputs": [],
   "source": [
    "df['Transmisi'] = df['Transmisi'].map({'Otomatis': 1, 'Manual': 0})\n"
   ]
  },
  {
   "cell_type": "code",
   "execution_count": 69,
   "id": "3c56e187",
   "metadata": {},
   "outputs": [
    {
     "name": "stdout",
     "output_type": "stream",
     "text": [
      "0      0\n",
      "1      1\n",
      "2      1\n",
      "3      0\n",
      "4      1\n",
      "      ..\n",
      "145    1\n",
      "146    0\n",
      "147    0\n",
      "148    0\n",
      "149    1\n",
      "Name: Transmisi, Length: 150, dtype: int64\n"
     ]
    }
   ],
   "source": [
    "print(df['Transmisi'])"
   ]
  },
  {
   "cell_type": "code",
   "execution_count": 70,
   "id": "67b5ce69",
   "metadata": {},
   "outputs": [],
   "source": [
    "features = ['Harga (Juta)', 'Kapasitas Mesin (cc)', 'Transmisi', 'Konsumsi BBM (km/l)', 'Berat (kg)']\n",
    "X = df[features]"
   ]
  },
  {
   "cell_type": "code",
   "execution_count": 71,
   "id": "3c79e3ce",
   "metadata": {},
   "outputs": [],
   "source": [
    "# 2. Normalisasi fitur\n",
    "scaler = StandardScaler()\n",
    "X_scaled = scaler.fit_transform(X)"
   ]
  },
  {
   "cell_type": "code",
   "execution_count": 72,
   "id": "bf9512db",
   "metadata": {},
   "outputs": [],
   "source": [
    "# === KMeans Clustering ===\n",
    "k = 2\n",
    "kmeans = KMeans(n_clusters=k, random_state=42)\n",
    "clusters = kmeans.fit_predict(X_scaled)"
   ]
  },
  {
   "cell_type": "code",
   "execution_count": 73,
   "id": "00a975db",
   "metadata": {},
   "outputs": [
    {
     "data": {
      "text/plain": [
       "['scaler.pkl']"
      ]
     },
     "execution_count": 73,
     "metadata": {},
     "output_type": "execute_result"
    }
   ],
   "source": [
    "joblib.dump(kmeans, 'kmeans_model.pkl')\n",
    "joblib.dump(scaler, 'scaler.pkl')"
   ]
  },
  {
   "cell_type": "code",
   "execution_count": 74,
   "id": "ad46ea49",
   "metadata": {},
   "outputs": [],
   "source": [
    "\n",
    "# === Tambahkan cluster ke DataFrame ===\n",
    "df = df.loc[X.index].copy()\n",
    "df['cluster'] = clusters"
   ]
  },
  {
   "cell_type": "code",
   "execution_count": 75,
   "id": "7f4c507e",
   "metadata": {},
   "outputs": [
    {
     "data": {
      "text/html": [
       "<div>\n",
       "<style scoped>\n",
       "    .dataframe tbody tr th:only-of-type {\n",
       "        vertical-align: middle;\n",
       "    }\n",
       "\n",
       "    .dataframe tbody tr th {\n",
       "        vertical-align: top;\n",
       "    }\n",
       "\n",
       "    .dataframe thead th {\n",
       "        text-align: right;\n",
       "    }\n",
       "</style>\n",
       "<table border=\"1\" class=\"dataframe\">\n",
       "  <thead>\n",
       "    <tr style=\"text-align: right;\">\n",
       "      <th></th>\n",
       "      <th>ID</th>\n",
       "      <th>Merek</th>\n",
       "      <th>Harga (Juta)</th>\n",
       "      <th>Kapasitas Mesin (cc)</th>\n",
       "      <th>Transmisi</th>\n",
       "      <th>Konsumsi BBM (km/l)</th>\n",
       "      <th>Berat (kg)</th>\n",
       "      <th>cluster</th>\n",
       "    </tr>\n",
       "  </thead>\n",
       "  <tbody>\n",
       "    <tr>\n",
       "      <th>0</th>\n",
       "      <td>1</td>\n",
       "      <td>Honda NMAX</td>\n",
       "      <td>43</td>\n",
       "      <td>281</td>\n",
       "      <td>0</td>\n",
       "      <td>31</td>\n",
       "      <td>159</td>\n",
       "      <td>1</td>\n",
       "    </tr>\n",
       "    <tr>\n",
       "      <th>1</th>\n",
       "      <td>2</td>\n",
       "      <td>Yamaha Beat</td>\n",
       "      <td>17</td>\n",
       "      <td>116</td>\n",
       "      <td>1</td>\n",
       "      <td>64</td>\n",
       "      <td>96</td>\n",
       "      <td>0</td>\n",
       "    </tr>\n",
       "    <tr>\n",
       "      <th>2</th>\n",
       "      <td>3</td>\n",
       "      <td>Kawasaki Vario</td>\n",
       "      <td>24</td>\n",
       "      <td>149</td>\n",
       "      <td>1</td>\n",
       "      <td>46</td>\n",
       "      <td>106</td>\n",
       "      <td>0</td>\n",
       "    </tr>\n",
       "    <tr>\n",
       "      <th>3</th>\n",
       "      <td>4</td>\n",
       "      <td>Suzuki CBR</td>\n",
       "      <td>42</td>\n",
       "      <td>280</td>\n",
       "      <td>0</td>\n",
       "      <td>33</td>\n",
       "      <td>134</td>\n",
       "      <td>1</td>\n",
       "    </tr>\n",
       "    <tr>\n",
       "      <th>4</th>\n",
       "      <td>5</td>\n",
       "      <td>Suzuki Vario</td>\n",
       "      <td>29</td>\n",
       "      <td>156</td>\n",
       "      <td>1</td>\n",
       "      <td>41</td>\n",
       "      <td>102</td>\n",
       "      <td>0</td>\n",
       "    </tr>\n",
       "    <tr>\n",
       "      <th>...</th>\n",
       "      <td>...</td>\n",
       "      <td>...</td>\n",
       "      <td>...</td>\n",
       "      <td>...</td>\n",
       "      <td>...</td>\n",
       "      <td>...</td>\n",
       "      <td>...</td>\n",
       "      <td>...</td>\n",
       "    </tr>\n",
       "    <tr>\n",
       "      <th>145</th>\n",
       "      <td>146</td>\n",
       "      <td>Yamaha Aerox</td>\n",
       "      <td>21</td>\n",
       "      <td>152</td>\n",
       "      <td>1</td>\n",
       "      <td>42</td>\n",
       "      <td>103</td>\n",
       "      <td>0</td>\n",
       "    </tr>\n",
       "    <tr>\n",
       "      <th>146</th>\n",
       "      <td>147</td>\n",
       "      <td>Honda Aerox</td>\n",
       "      <td>29</td>\n",
       "      <td>127</td>\n",
       "      <td>0</td>\n",
       "      <td>54</td>\n",
       "      <td>112</td>\n",
       "      <td>0</td>\n",
       "    </tr>\n",
       "    <tr>\n",
       "      <th>147</th>\n",
       "      <td>148</td>\n",
       "      <td>Honda Supra X</td>\n",
       "      <td>18</td>\n",
       "      <td>102</td>\n",
       "      <td>0</td>\n",
       "      <td>59</td>\n",
       "      <td>100</td>\n",
       "      <td>0</td>\n",
       "    </tr>\n",
       "    <tr>\n",
       "      <th>148</th>\n",
       "      <td>149</td>\n",
       "      <td>Yamaha Ninja</td>\n",
       "      <td>37</td>\n",
       "      <td>232</td>\n",
       "      <td>0</td>\n",
       "      <td>39</td>\n",
       "      <td>150</td>\n",
       "      <td>1</td>\n",
       "    </tr>\n",
       "    <tr>\n",
       "      <th>149</th>\n",
       "      <td>150</td>\n",
       "      <td>Kawasaki Mio</td>\n",
       "      <td>16</td>\n",
       "      <td>124</td>\n",
       "      <td>1</td>\n",
       "      <td>58</td>\n",
       "      <td>91</td>\n",
       "      <td>0</td>\n",
       "    </tr>\n",
       "  </tbody>\n",
       "</table>\n",
       "<p>150 rows × 8 columns</p>\n",
       "</div>"
      ],
      "text/plain": [
       "      ID           Merek  Harga (Juta)  Kapasitas Mesin (cc)  Transmisi  \\\n",
       "0      1      Honda NMAX            43                   281          0   \n",
       "1      2     Yamaha Beat            17                   116          1   \n",
       "2      3  Kawasaki Vario            24                   149          1   \n",
       "3      4      Suzuki CBR            42                   280          0   \n",
       "4      5    Suzuki Vario            29                   156          1   \n",
       "..   ...             ...           ...                   ...        ...   \n",
       "145  146    Yamaha Aerox            21                   152          1   \n",
       "146  147     Honda Aerox            29                   127          0   \n",
       "147  148   Honda Supra X            18                   102          0   \n",
       "148  149    Yamaha Ninja            37                   232          0   \n",
       "149  150    Kawasaki Mio            16                   124          1   \n",
       "\n",
       "     Konsumsi BBM (km/l)  Berat (kg)  cluster  \n",
       "0                     31         159        1  \n",
       "1                     64          96        0  \n",
       "2                     46         106        0  \n",
       "3                     33         134        1  \n",
       "4                     41         102        0  \n",
       "..                   ...         ...      ...  \n",
       "145                   42         103        0  \n",
       "146                   54         112        0  \n",
       "147                   59         100        0  \n",
       "148                   39         150        1  \n",
       "149                   58          91        0  \n",
       "\n",
       "[150 rows x 8 columns]"
      ]
     },
     "execution_count": 75,
     "metadata": {},
     "output_type": "execute_result"
    }
   ],
   "source": [
    "df"
   ]
  },
  {
   "cell_type": "code",
   "execution_count": 76,
   "id": "9c473c74",
   "metadata": {},
   "outputs": [],
   "source": [
    "# 3. Tentukan jumlah cluster optimal (Elbow Method)\n",
    "wcss = []  # Within-cluster sum of squares\n",
    "K_range = range(1, 11)\n",
    "\n",
    "for k in K_range:\n",
    "    kmeans = KMeans(n_clusters=k, random_state=42)\n",
    "    kmeans.fit(X_scaled)\n",
    "    wcss.append(kmeans.inertia_)"
   ]
  },
  {
   "cell_type": "code",
   "execution_count": 77,
   "id": "ea025a05",
   "metadata": {},
   "outputs": [
    {
     "data": {
      "image/png": "[encoded data removed]",
      "text/plain": [
       "<Figure size 640x480 with 1 Axes>"
      ]
     },
     "metadata": {},
     "output_type": "display_data"
    }
   ],
   "source": [
    "# Visualisasi Elbow\n",
    "plt.plot(K_range, wcss, marker='o')\n",
    "plt.title(\"Elbow Method\")\n",
    "plt.xlabel(\"Jumlah Cluster\")\n",
    "plt.ylabel(\"WCSS\")\n",
    "plt.grid(True)\n",
    "plt.show()"
   ]
  },
  {
   "cell_type": "code",
   "execution_count": 78,
   "id": "50200592",
   "metadata": {},
   "outputs": [
    {
     "name": "stdout",
     "output_type": "stream",
     "text": [
      "Silhouette Score untuk 2 cluster: 0.642\n",
      "Silhouette Score untuk 3 cluster: 0.497\n",
      "Silhouette Score untuk 4 cluster: 0.631\n",
      "Silhouette Score untuk 5 cluster: 0.438\n",
      "Silhouette Score untuk 6 cluster: 0.437\n"
     ]
    }
   ],
   "source": [
    "# 4. (Opsional) Cek Silhouette Score\n",
    "for k in range(2, 7):\n",
    "    kmeans = KMeans(n_clusters=k, random_state=42)\n",
    "    labels = kmeans.fit_predict(X_scaled)\n",
    "    score = silhouette_score(X_scaled, labels)\n",
    "    print(f\"Silhouette Score untuk {k} cluster: {score:.3f}\")"
   ]
  },
  {
   "cell_type": "code",
   "execution_count": 79,
   "id": "e868ac66",
   "metadata": {},
   "outputs": [],
   "source": [
    "# 6. Visualisasi Clustering dengan PCA (2D)\n",
    "from sklearn.decomposition import PCA\n",
    "\n",
    "pca = PCA(n_components=2)\n",
    "X_pca = pca.fit_transform(X_scaled)\n",
    "df['pca1'] = X_pca[:, 0]\n",
    "df['pca2'] = X_pca[:, 1]"
   ]
  },
  {
   "cell_type": "code",
   "execution_count": 80,
   "id": "0737cea9",
   "metadata": {},
   "outputs": [
    {
     "data": {
      "image/png": "[encoded data removed]",
      "text/plain": [
       "<Figure size 800x600 with 1 Axes>"
      ]
     },
     "metadata": {},
     "output_type": "display_data"
    }
   ],
   "source": [
    "# Plot hasil cluster\n",
    "plt.figure(figsize=(8, 6))\n",
    "sns.scatterplot(data=df, x='pca1', y='pca2', hue='cluster', palette='Set2', s=100)\n",
    "plt.title(\"Visualisasi Cluster (PCA 2D)\")\n",
    "plt.grid(True)\n",
    "plt.show()"
   ]
  },
  {
   "cell_type": "code",
   "execution_count": 81,
   "id": "217ca4f0",
   "metadata": {},
   "outputs": [],
   "source": [
    "\n",
    "df.to_csv(\"dataset_clustered.csv\", index=False)"
   ]
  }
 ],
 "metadata": {
  "kernelspec": {
   "display_name": "Python 3",
   "language": "python",
   "name": "python3"
  },
  "language_info": {
   "codemirror_mode": {
    "name": "ipython",
    "version": 3
   },
   "file_extension": ".py",
   "mimetype": "text/x-python",
   "name": "python",
   "nbconvert_exporter": "python",
   "pygments_lexer": "ipython3",
   "version": "3.10.11"
  }
 },
 "nbformat": 4,
 "nbformat_minor": 5
}
